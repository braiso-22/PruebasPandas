{
 "cells": [
  {
   "cell_type": "code",
   "execution_count": 112,
   "metadata": {},
   "outputs": [],
   "source": [
    "import numpy as np\n",
    "import pandas as pd"
   ]
  },
  {
   "attachments": {},
   "cell_type": "markdown",
   "metadata": {},
   "source": [
    "# Pandas"
   ]
  },
  {
   "attachments": {},
   "cell_type": "markdown",
   "metadata": {},
   "source": [
    "## Series"
   ]
  },
  {
   "attachments": {},
   "cell_type": "markdown",
   "metadata": {},
   "source": [
    "* Serie simple"
   ]
  },
  {
   "cell_type": "code",
   "execution_count": 113,
   "metadata": {},
   "outputs": [
    {
     "data": {
      "text/plain": [
       "0    1.0\n",
       "1    3.0\n",
       "2    5.0\n",
       "3    NaN\n",
       "4    6.0\n",
       "5    8.0\n",
       "dtype: float64"
      ]
     },
     "execution_count": 113,
     "metadata": {},
     "output_type": "execute_result"
    }
   ],
   "source": [
    "pd.Series([1, 3, 5, np.nan, 6, 8])"
   ]
  },
  {
   "cell_type": "markdown",
   "metadata": {},
   "source": [
    "* Serie con indices alfabeticos"
   ]
  },
  {
   "cell_type": "code",
   "execution_count": 114,
   "metadata": {},
   "outputs": [
    {
     "data": {
      "text/plain": [
       "a    1.0\n",
       "b    3.0\n",
       "c    5.0\n",
       "d    NaN\n",
       "e    6.0\n",
       "f    8.0\n",
       "dtype: float64"
      ]
     },
     "execution_count": 114,
     "metadata": {},
     "output_type": "execute_result"
    }
   ],
   "source": [
    "pd.Series([1, 3, 5, np.nan, 6, 8], index=['a', 'b', 'c', 'd', 'e', 'f'])"
   ]
  },
  {
   "attachments": {},
   "cell_type": "markdown",
   "metadata": {},
   "source": [
    "* Crear una serie con las letras del abecedario inglés"
   ]
  },
  {
   "cell_type": "code",
   "execution_count": 115,
   "metadata": {},
   "outputs": [
    {
     "data": {
      "text/plain": [
       "a     1\n",
       "b     2\n",
       "c     3\n",
       "d     4\n",
       "e     5\n",
       "f     6\n",
       "g     7\n",
       "h     8\n",
       "i     9\n",
       "j    10\n",
       "k    11\n",
       "l    12\n",
       "m    13\n",
       "n    14\n",
       "o    15\n",
       "p    16\n",
       "q    17\n",
       "r    18\n",
       "s    19\n",
       "t    20\n",
       "u    21\n",
       "v    22\n",
       "w    23\n",
       "x    24\n",
       "y    25\n",
       "z    26\n",
       "dtype: int64"
      ]
     },
     "execution_count": 115,
     "metadata": {},
     "output_type": "execute_result"
    }
   ],
   "source": [
    "abecedario = pd.Series(range(1,27), index=list('abcdefghijklmnopqrstuvwxyz'))\n",
    "abecedario"
   ]
  },
  {
   "attachments": {},
   "cell_type": "markdown",
   "metadata": {},
   "source": [
    "* Lista de los indices"
   ]
  },
  {
   "cell_type": "code",
   "execution_count": 116,
   "metadata": {},
   "outputs": [
    {
     "data": {
      "text/plain": [
       "Index(['a', 'b', 'c', 'd', 'e', 'f', 'g', 'h', 'i', 'j', 'k', 'l', 'm', 'n',\n",
       "       'o', 'p', 'q', 'r', 's', 't', 'u', 'v', 'w', 'x', 'y', 'z'],\n",
       "      dtype='object')"
      ]
     },
     "execution_count": 116,
     "metadata": {},
     "output_type": "execute_result"
    }
   ],
   "source": [
    "abecedario.index"
   ]
  },
  {
   "attachments": {},
   "cell_type": "markdown",
   "metadata": {},
   "source": [
    "* Tamaño de la serie"
   ]
  },
  {
   "cell_type": "code",
   "execution_count": 117,
   "metadata": {},
   "outputs": [
    {
     "data": {
      "text/plain": [
       "26"
      ]
     },
     "execution_count": 117,
     "metadata": {},
     "output_type": "execute_result"
    }
   ],
   "source": [
    "abecedario.size"
   ]
  },
  {
   "attachments": {},
   "cell_type": "markdown",
   "metadata": {},
   "source": [
    "* Acceder a un elemento por clave"
   ]
  },
  {
   "cell_type": "code",
   "execution_count": 118,
   "metadata": {},
   "outputs": [
    {
     "data": {
      "text/plain": [
       "10"
      ]
     },
     "execution_count": 118,
     "metadata": {},
     "output_type": "execute_result"
    }
   ],
   "source": [
    "abecedario[\"j\"]\n",
    "abecedario.loc[\"j\"] # Para texto"
   ]
  },
  {
   "attachments": {},
   "cell_type": "markdown",
   "metadata": {},
   "source": [
    "* Acceder por indice"
   ]
  },
  {
   "cell_type": "code",
   "execution_count": 119,
   "metadata": {},
   "outputs": [
    {
     "data": {
      "text/plain": [
       "10"
      ]
     },
     "execution_count": 119,
     "metadata": {},
     "output_type": "execute_result"
    }
   ],
   "source": [
    "abecedario[9]\n",
    "abecedario.iloc[9] # Para numeros"
   ]
  },
  {
   "attachments": {},
   "cell_type": "markdown",
   "metadata": {},
   "source": [
    "* Ordenar"
   ]
  },
  {
   "cell_type": "code",
   "execution_count": 120,
   "metadata": {},
   "outputs": [
    {
     "data": {
      "text/plain": [
       "k    11\n",
       "l    12\n",
       "x    24\n",
       "y    25\n",
       "b     2\n",
       "n    14\n",
       "w    23\n",
       "i     9\n",
       "g     7\n",
       "v    22\n",
       "e     5\n",
       "r    18\n",
       "u    21\n",
       "a     1\n",
       "q    17\n",
       "s    19\n",
       "c     3\n",
       "z    26\n",
       "d     4\n",
       "h     8\n",
       "j    10\n",
       "m    13\n",
       "t    20\n",
       "f     6\n",
       "p    16\n",
       "o    15\n",
       "dtype: int64"
      ]
     },
     "execution_count": 120,
     "metadata": {},
     "output_type": "execute_result"
    }
   ],
   "source": [
    "# desordenamos por las claves\n",
    "abecedario = abecedario.reindex(np.random.permutation(abecedario.index))\n",
    "abecedario"
   ]
  },
  {
   "cell_type": "code",
   "execution_count": 121,
   "metadata": {},
   "outputs": [
    {
     "data": {
      "text/plain": [
       "a     1\n",
       "b     2\n",
       "c     3\n",
       "d     4\n",
       "e     5\n",
       "f     6\n",
       "g     7\n",
       "h     8\n",
       "i     9\n",
       "j    10\n",
       "k    11\n",
       "l    12\n",
       "m    13\n",
       "n    14\n",
       "o    15\n",
       "p    16\n",
       "q    17\n",
       "r    18\n",
       "s    19\n",
       "t    20\n",
       "u    21\n",
       "v    22\n",
       "w    23\n",
       "x    24\n",
       "y    25\n",
       "z    26\n",
       "dtype: int64"
      ]
     },
     "execution_count": 121,
     "metadata": {},
     "output_type": "execute_result"
    }
   ],
   "source": [
    "abecedario.sort_index()"
   ]
  },
  {
   "attachments": {},
   "cell_type": "markdown",
   "metadata": {},
   "source": [
    "* Empleados con sus sueldos"
   ]
  },
  {
   "cell_type": "code",
   "execution_count": 122,
   "metadata": {},
   "outputs": [
    {
     "data": {
      "text/plain": [
       "Juan     1000\n",
       "Ana      2000\n",
       "Pedro    3000\n",
       "Luis     4000\n",
       "Maria    5000\n",
       "Jose     6000\n",
       "dtype: int64"
      ]
     },
     "execution_count": 122,
     "metadata": {},
     "output_type": "execute_result"
    }
   ],
   "source": [
    "empleados = [\"Juan\", \"Ana\", \"Pedro\", \"Luis\", \"Maria\", \"Jose\"]\n",
    "sueldos = [1000, 2000, 3000, 4000, 5000, 6000]\n",
    "serie_empleados = pd.Series(sueldos, index=empleados)\n",
    "serie_empleados"
   ]
  },
  {
   "attachments": {},
   "cell_type": "markdown",
   "metadata": {},
   "source": [
    "* Ordenar por sueldo"
   ]
  },
  {
   "cell_type": "code",
   "execution_count": 123,
   "metadata": {},
   "outputs": [
    {
     "data": {
      "text/plain": [
       "Juan     1000\n",
       "Ana      2000\n",
       "Pedro    3000\n",
       "Luis     4000\n",
       "Maria    5000\n",
       "Jose     6000\n",
       "dtype: int64"
      ]
     },
     "execution_count": 123,
     "metadata": {},
     "output_type": "execute_result"
    }
   ],
   "source": [
    "serie_empleados.sort_values()"
   ]
  },
  {
   "cell_type": "code",
   "execution_count": 124,
   "metadata": {},
   "outputs": [
    {
     "data": {
      "text/plain": [
       "[('Juan', 1000),\n",
       " ('Ana', 2000),\n",
       " ('Pedro', 3000),\n",
       " ('Luis', 4000),\n",
       " ('Maria', 5000),\n",
       " ('Jose', 6000)]"
      ]
     },
     "execution_count": 124,
     "metadata": {},
     "output_type": "execute_result"
    }
   ],
   "source": [
    "# hacer un diccionario uniendo sueldos y empleados\n",
    "diccionario = dict(zip(empleados, sueldos))\n",
    "diccionario = {i:j for i,j in zip(empleados, sueldos)}\n",
    "sorted(diccionario.items(), key=lambda x: x[1])"
   ]
  },
  {
   "attachments": {},
   "cell_type": "markdown",
   "metadata": {},
   "source": [
    "* Los empleados con mas de 3000 de sueldo"
   ]
  },
  {
   "cell_type": "code",
   "execution_count": 125,
   "metadata": {},
   "outputs": [
    {
     "data": {
      "text/plain": [
       "Luis     4000\n",
       "Maria    5000\n",
       "Jose     6000\n",
       "dtype: int64"
      ]
     },
     "execution_count": 125,
     "metadata": {},
     "output_type": "execute_result"
    }
   ],
   "source": [
    "serie_empleados[serie_empleados > 3000]"
   ]
  },
  {
   "attachments": {},
   "cell_type": "markdown",
   "metadata": {},
   "source": [
    "* El sueldo máximo y el mínimo"
   ]
  },
  {
   "cell_type": "code",
   "execution_count": 126,
   "metadata": {},
   "outputs": [
    {
     "name": "stdout",
     "output_type": "stream",
     "text": [
      "Empleado mejor pagado: Jose 6000€\n",
      "Emplado peor pagado: Juan 1000€\n"
     ]
    }
   ],
   "source": [
    "mejor_pagado = serie_empleados.idxmax()\n",
    "print(f\"Empleado mejor pagado: {mejor_pagado} {serie_empleados[mejor_pagado]}€\")\n",
    "peor_pagado = serie_empleados.idxmin()\n",
    "print(f\"Emplado peor pagado: {peor_pagado} {serie_empleados[peor_pagado]}€\")"
   ]
  },
  {
   "attachments": {},
   "cell_type": "markdown",
   "metadata": {},
   "source": [
    "## Dataframes"
   ]
  },
  {
   "attachments": {},
   "cell_type": "markdown",
   "metadata": {},
   "source": [
    "* Crear un dataframe a partir de un diccionario"
   ]
  },
  {
   "cell_type": "code",
   "execution_count": 127,
   "metadata": {},
   "outputs": [
    {
     "data": {
      "text/html": [
       "<div>\n",
       "<style scoped>\n",
       "    .dataframe tbody tr th:only-of-type {\n",
       "        vertical-align: middle;\n",
       "    }\n",
       "\n",
       "    .dataframe tbody tr th {\n",
       "        vertical-align: top;\n",
       "    }\n",
       "\n",
       "    .dataframe thead th {\n",
       "        text-align: right;\n",
       "    }\n",
       "</style>\n",
       "<table border=\"1\" class=\"dataframe\">\n",
       "  <thead>\n",
       "    <tr style=\"text-align: right;\">\n",
       "      <th></th>\n",
       "      <th>Nombres</th>\n",
       "      <th>Sueldos</th>\n",
       "    </tr>\n",
       "  </thead>\n",
       "  <tbody>\n",
       "    <tr>\n",
       "      <th>0</th>\n",
       "      <td>Juan</td>\n",
       "      <td>1000.0</td>\n",
       "    </tr>\n",
       "    <tr>\n",
       "      <th>1</th>\n",
       "      <td>Ana</td>\n",
       "      <td>2000.0</td>\n",
       "    </tr>\n",
       "    <tr>\n",
       "      <th>2</th>\n",
       "      <td>Pedro</td>\n",
       "      <td>NaN</td>\n",
       "    </tr>\n",
       "    <tr>\n",
       "      <th>3</th>\n",
       "      <td>Luis</td>\n",
       "      <td>4000.0</td>\n",
       "    </tr>\n",
       "    <tr>\n",
       "      <th>4</th>\n",
       "      <td>Maria</td>\n",
       "      <td>5000.0</td>\n",
       "    </tr>\n",
       "    <tr>\n",
       "      <th>5</th>\n",
       "      <td>None</td>\n",
       "      <td>6000.0</td>\n",
       "    </tr>\n",
       "  </tbody>\n",
       "</table>\n",
       "</div>"
      ],
      "text/plain": [
       "  Nombres  Sueldos\n",
       "0    Juan   1000.0\n",
       "1     Ana   2000.0\n",
       "2   Pedro      NaN\n",
       "3    Luis   4000.0\n",
       "4   Maria   5000.0\n",
       "5    None   6000.0"
      ]
     },
     "execution_count": 127,
     "metadata": {},
     "output_type": "execute_result"
    }
   ],
   "source": [
    "data = {\"Nombres\": [\"Juan\", \"Ana\", \"Pedro\", \"Luis\", \"Maria\", None], \"Sueldos\": [1000, 2000, np.nan, 4000, 5000, 6000]}\n",
    "df = pd.DataFrame(data)\n",
    "df"
   ]
  },
  {
   "attachments": {},
   "cell_type": "markdown",
   "metadata": {},
   "source": [
    "* Crear un dataframe de un array de arrays sin los nombres de columnas"
   ]
  },
  {
   "cell_type": "code",
   "execution_count": 128,
   "metadata": {},
   "outputs": [
    {
     "data": {
      "text/html": [
       "<div>\n",
       "<style scoped>\n",
       "    .dataframe tbody tr th:only-of-type {\n",
       "        vertical-align: middle;\n",
       "    }\n",
       "\n",
       "    .dataframe tbody tr th {\n",
       "        vertical-align: top;\n",
       "    }\n",
       "\n",
       "    .dataframe thead th {\n",
       "        text-align: right;\n",
       "    }\n",
       "</style>\n",
       "<table border=\"1\" class=\"dataframe\">\n",
       "  <thead>\n",
       "    <tr style=\"text-align: right;\">\n",
       "      <th></th>\n",
       "      <th>Nombres</th>\n",
       "      <th>Sueldos</th>\n",
       "    </tr>\n",
       "  </thead>\n",
       "  <tbody>\n",
       "    <tr>\n",
       "      <th>0</th>\n",
       "      <td>Juan</td>\n",
       "      <td>1000.0</td>\n",
       "    </tr>\n",
       "    <tr>\n",
       "      <th>1</th>\n",
       "      <td>Ana</td>\n",
       "      <td>2000.0</td>\n",
       "    </tr>\n",
       "    <tr>\n",
       "      <th>2</th>\n",
       "      <td>Pedro</td>\n",
       "      <td>NaN</td>\n",
       "    </tr>\n",
       "    <tr>\n",
       "      <th>3</th>\n",
       "      <td>Luis</td>\n",
       "      <td>4000.0</td>\n",
       "    </tr>\n",
       "    <tr>\n",
       "      <th>4</th>\n",
       "      <td>Maria</td>\n",
       "      <td>5000.0</td>\n",
       "    </tr>\n",
       "    <tr>\n",
       "      <th>5</th>\n",
       "      <td>None</td>\n",
       "      <td>6000.0</td>\n",
       "    </tr>\n",
       "  </tbody>\n",
       "</table>\n",
       "</div>"
      ],
      "text/plain": [
       "  Nombres  Sueldos\n",
       "0    Juan   1000.0\n",
       "1     Ana   2000.0\n",
       "2   Pedro      NaN\n",
       "3    Luis   4000.0\n",
       "4   Maria   5000.0\n",
       "5    None   6000.0"
      ]
     },
     "execution_count": 128,
     "metadata": {},
     "output_type": "execute_result"
    }
   ],
   "source": [
    "data = [[\"Juan\", 1000], [\"Ana\", 2000], [\"Pedro\", np.nan], [\"Luis\", 4000], [\"Maria\", 5000], [None, 6000]]\n",
    "df = pd.DataFrame(data, columns=[\"Nombres\", \"Sueldos\"])\n",
    "df"
   ]
  },
  {
   "attachments": {},
   "cell_type": "markdown",
   "metadata": {},
   "source": [
    "* Utilizar una de las columas como indice"
   ]
  },
  {
   "cell_type": "code",
   "execution_count": 129,
   "metadata": {},
   "outputs": [
    {
     "data": {
      "text/html": [
       "<div>\n",
       "<style scoped>\n",
       "    .dataframe tbody tr th:only-of-type {\n",
       "        vertical-align: middle;\n",
       "    }\n",
       "\n",
       "    .dataframe tbody tr th {\n",
       "        vertical-align: top;\n",
       "    }\n",
       "\n",
       "    .dataframe thead th {\n",
       "        text-align: right;\n",
       "    }\n",
       "</style>\n",
       "<table border=\"1\" class=\"dataframe\">\n",
       "  <thead>\n",
       "    <tr style=\"text-align: right;\">\n",
       "      <th></th>\n",
       "      <th>Sueldos</th>\n",
       "    </tr>\n",
       "    <tr>\n",
       "      <th>Nombres</th>\n",
       "      <th></th>\n",
       "    </tr>\n",
       "  </thead>\n",
       "  <tbody>\n",
       "    <tr>\n",
       "      <th>Juan</th>\n",
       "      <td>1000.0</td>\n",
       "    </tr>\n",
       "    <tr>\n",
       "      <th>Ana</th>\n",
       "      <td>2000.0</td>\n",
       "    </tr>\n",
       "    <tr>\n",
       "      <th>Pedro</th>\n",
       "      <td>NaN</td>\n",
       "    </tr>\n",
       "    <tr>\n",
       "      <th>Luis</th>\n",
       "      <td>4000.0</td>\n",
       "    </tr>\n",
       "    <tr>\n",
       "      <th>Maria</th>\n",
       "      <td>5000.0</td>\n",
       "    </tr>\n",
       "    <tr>\n",
       "      <th>None</th>\n",
       "      <td>6000.0</td>\n",
       "    </tr>\n",
       "  </tbody>\n",
       "</table>\n",
       "</div>"
      ],
      "text/plain": [
       "         Sueldos\n",
       "Nombres         \n",
       "Juan      1000.0\n",
       "Ana       2000.0\n",
       "Pedro        NaN\n",
       "Luis      4000.0\n",
       "Maria     5000.0\n",
       "None      6000.0"
      ]
     },
     "execution_count": 129,
     "metadata": {},
     "output_type": "execute_result"
    }
   ],
   "source": [
    "df.set_index(\"Nombres\", inplace=True)\n",
    "df"
   ]
  },
  {
   "cell_type": "code",
   "execution_count": 130,
   "metadata": {},
   "outputs": [
    {
     "data": {
      "text/html": [
       "<div>\n",
       "<style scoped>\n",
       "    .dataframe tbody tr th:only-of-type {\n",
       "        vertical-align: middle;\n",
       "    }\n",
       "\n",
       "    .dataframe tbody tr th {\n",
       "        vertical-align: top;\n",
       "    }\n",
       "\n",
       "    .dataframe thead th {\n",
       "        text-align: right;\n",
       "    }\n",
       "</style>\n",
       "<table border=\"1\" class=\"dataframe\">\n",
       "  <thead>\n",
       "    <tr style=\"text-align: right;\">\n",
       "      <th></th>\n",
       "      <th>Isla con administración propia</th>\n",
       "      <th>Bandera</th>\n",
       "      <th>Escudo</th>\n",
       "      <th>Municipios</th>\n",
       "      <th>Capital</th>\n",
       "      <th>Área (km²)</th>\n",
       "      <th>Población (2020)[18]​</th>\n",
       "    </tr>\n",
       "  </thead>\n",
       "  <tbody>\n",
       "    <tr>\n",
       "      <th>0</th>\n",
       "      <td>El Hierro</td>\n",
       "      <td>NaN</td>\n",
       "      <td>NaN</td>\n",
       "      <td>3</td>\n",
       "      <td>Valverde</td>\n",
       "      <td>26871</td>\n",
       "      <td>11 147</td>\n",
       "    </tr>\n",
       "    <tr>\n",
       "      <th>1</th>\n",
       "      <td>Fuerteventura[nota 10]​</td>\n",
       "      <td>NaN</td>\n",
       "      <td>NaN</td>\n",
       "      <td>6</td>\n",
       "      <td>Puerto del Rosario</td>\n",
       "      <td>1665,74[nota 11]​</td>\n",
       "      <td>119 732</td>\n",
       "    </tr>\n",
       "    <tr>\n",
       "      <th>2</th>\n",
       "      <td>Gran Canaria</td>\n",
       "      <td>NaN</td>\n",
       "      <td>NaN</td>\n",
       "      <td>21</td>\n",
       "      <td>Las Palmas de Gran Canaria</td>\n",
       "      <td>156010</td>\n",
       "      <td>855 521</td>\n",
       "    </tr>\n",
       "    <tr>\n",
       "      <th>3</th>\n",
       "      <td>La Gomera</td>\n",
       "      <td>NaN</td>\n",
       "      <td>NaN</td>\n",
       "      <td>6</td>\n",
       "      <td>San Sebastián de La Gomera</td>\n",
       "      <td>36976</td>\n",
       "      <td>21 678</td>\n",
       "    </tr>\n",
       "    <tr>\n",
       "      <th>4</th>\n",
       "      <td>Lanzarote[nota 12]​</td>\n",
       "      <td>NaN</td>\n",
       "      <td>NaN</td>\n",
       "      <td>7</td>\n",
       "      <td>Arrecife</td>\n",
       "      <td>888,07[nota 13]​</td>\n",
       "      <td>155 812[nota 14]​</td>\n",
       "    </tr>\n",
       "    <tr>\n",
       "      <th>5</th>\n",
       "      <td>La Palma</td>\n",
       "      <td>NaN</td>\n",
       "      <td>NaN</td>\n",
       "      <td>14</td>\n",
       "      <td>Santa Cruz de La Palma</td>\n",
       "      <td>70832</td>\n",
       "      <td>83 458</td>\n",
       "    </tr>\n",
       "    <tr>\n",
       "      <th>6</th>\n",
       "      <td>Tenerife</td>\n",
       "      <td>NaN</td>\n",
       "      <td>NaN</td>\n",
       "      <td>31</td>\n",
       "      <td>Santa Cruz de Tenerife</td>\n",
       "      <td>203438</td>\n",
       "      <td>928 604</td>\n",
       "    </tr>\n",
       "  </tbody>\n",
       "</table>\n",
       "</div>"
      ],
      "text/plain": [
       "  Isla con administración propia  Bandera  Escudo  Municipios  \\\n",
       "0                      El Hierro      NaN     NaN           3   \n",
       "1        Fuerteventura[nota 10]​      NaN     NaN           6   \n",
       "2                   Gran Canaria      NaN     NaN          21   \n",
       "3                      La Gomera      NaN     NaN           6   \n",
       "4            Lanzarote[nota 12]​      NaN     NaN           7   \n",
       "5                       La Palma      NaN     NaN          14   \n",
       "6                       Tenerife      NaN     NaN          31   \n",
       "\n",
       "                      Capital         Área (km²) Población (2020)[18]​  \n",
       "0                    Valverde              26871                11 147  \n",
       "1          Puerto del Rosario  1665,74[nota 11]​               119 732  \n",
       "2  Las Palmas de Gran Canaria             156010               855 521  \n",
       "3  San Sebastián de La Gomera              36976                21 678  \n",
       "4                    Arrecife   888,07[nota 13]​     155 812[nota 14]​  \n",
       "5      Santa Cruz de La Palma              70832                83 458  \n",
       "6      Santa Cruz de Tenerife             203438               928 604  "
      ]
     },
     "execution_count": 130,
     "metadata": {},
     "output_type": "execute_result"
    }
   ],
   "source": [
    "\n",
    "url = \"https://es.wikipedia.org/wiki/Canarias\"\n",
    "tables = pd.read_html(url)\n",
    "df = tables[9]\n",
    "df"
   ]
  },
  {
   "cell_type": "code",
   "execution_count": 131,
   "metadata": {},
   "outputs": [
    {
     "data": {
      "text/html": [
       "<div>\n",
       "<style scoped>\n",
       "    .dataframe tbody tr th:only-of-type {\n",
       "        vertical-align: middle;\n",
       "    }\n",
       "\n",
       "    .dataframe tbody tr th {\n",
       "        vertical-align: top;\n",
       "    }\n",
       "\n",
       "    .dataframe thead th {\n",
       "        text-align: right;\n",
       "    }\n",
       "</style>\n",
       "<table border=\"1\" class=\"dataframe\">\n",
       "  <thead>\n",
       "    <tr style=\"text-align: right;\">\n",
       "      <th></th>\n",
       "      <th>Isla con administración propia</th>\n",
       "      <th>Municipios</th>\n",
       "      <th>Capital</th>\n",
       "      <th>Area</th>\n",
       "      <th>Poblacion</th>\n",
       "    </tr>\n",
       "  </thead>\n",
       "  <tbody>\n",
       "    <tr>\n",
       "      <th>0</th>\n",
       "      <td>El Hierro</td>\n",
       "      <td>3</td>\n",
       "      <td>Valverde</td>\n",
       "      <td>26871.00</td>\n",
       "      <td>11 147</td>\n",
       "    </tr>\n",
       "    <tr>\n",
       "      <th>1</th>\n",
       "      <td>Fuerteventura</td>\n",
       "      <td>6</td>\n",
       "      <td>Puerto del Rosario</td>\n",
       "      <td>1665.74</td>\n",
       "      <td>119 732</td>\n",
       "    </tr>\n",
       "    <tr>\n",
       "      <th>2</th>\n",
       "      <td>Gran Canaria</td>\n",
       "      <td>21</td>\n",
       "      <td>Las Palmas de Gran Canaria</td>\n",
       "      <td>156010.00</td>\n",
       "      <td>855 521</td>\n",
       "    </tr>\n",
       "    <tr>\n",
       "      <th>3</th>\n",
       "      <td>La Gomera</td>\n",
       "      <td>6</td>\n",
       "      <td>San Sebastián de La Gomera</td>\n",
       "      <td>36976.00</td>\n",
       "      <td>21 678</td>\n",
       "    </tr>\n",
       "    <tr>\n",
       "      <th>4</th>\n",
       "      <td>Lanzarote</td>\n",
       "      <td>7</td>\n",
       "      <td>Arrecife</td>\n",
       "      <td>888.07</td>\n",
       "      <td>155 812</td>\n",
       "    </tr>\n",
       "    <tr>\n",
       "      <th>5</th>\n",
       "      <td>La Palma</td>\n",
       "      <td>14</td>\n",
       "      <td>Santa Cruz de La Palma</td>\n",
       "      <td>70832.00</td>\n",
       "      <td>83 458</td>\n",
       "    </tr>\n",
       "    <tr>\n",
       "      <th>6</th>\n",
       "      <td>Tenerife</td>\n",
       "      <td>31</td>\n",
       "      <td>Santa Cruz de Tenerife</td>\n",
       "      <td>203438.00</td>\n",
       "      <td>928 604</td>\n",
       "    </tr>\n",
       "  </tbody>\n",
       "</table>\n",
       "</div>"
      ],
      "text/plain": [
       "  Isla con administración propia  Municipios                     Capital  \\\n",
       "0                      El Hierro           3                    Valverde   \n",
       "1                  Fuerteventura           6          Puerto del Rosario   \n",
       "2                   Gran Canaria          21  Las Palmas de Gran Canaria   \n",
       "3                      La Gomera           6  San Sebastián de La Gomera   \n",
       "4                      Lanzarote           7                    Arrecife   \n",
       "5                       La Palma          14      Santa Cruz de La Palma   \n",
       "6                       Tenerife          31      Santa Cruz de Tenerife   \n",
       "\n",
       "        Area Poblacion  \n",
       "0   26871.00    11 147  \n",
       "1    1665.74   119 732  \n",
       "2  156010.00   855 521  \n",
       "3   36976.00    21 678  \n",
       "4     888.07   155 812  \n",
       "5   70832.00    83 458  \n",
       "6  203438.00   928 604  "
      ]
     },
     "execution_count": 131,
     "metadata": {},
     "output_type": "execute_result"
    }
   ],
   "source": [
    "def eliminar_corchetes(x):\n",
    "    ''' \n",
    "        por cada valor de cada fila, si continene [*] lo eliminamos\n",
    "    '''\n",
    "    if isinstance(x, str):\n",
    "        index_of_corchete = x.find(\"[\")\n",
    "        if index_of_corchete != -1:\n",
    "            return x[:index_of_corchete]\n",
    "        else:\n",
    "            return x\n",
    "    else:\n",
    "        return x\n",
    "\n",
    "def pasar_float(x):\n",
    "    if str(x).find(\",\") != -1:\n",
    "        return float(x.replace(\",\", \".\"))\n",
    "    else:\n",
    "        return float(x)\n",
    "def pasar_int(x):\n",
    "    if str(x).find(\" \") != -1:\n",
    "        return int(x.replace(\" \", \"\").replace(\".\", \"\"))\n",
    "    else:\n",
    "        return int(x)\n",
    "\n",
    "def limpia_datos(df):\n",
    "    # eliminar las columnas bandera y escudo\n",
    "    df.drop([\"Bandera\", \"Escudo\"], axis=1, inplace=True)\n",
    "    # eliminar valores con corchetes anchor\n",
    "    df = df.applymap(lambda x: eliminar_corchetes(x))\n",
    "    # cambiar el nombre de la columna \"Área (km²)\" por \"Area\"\n",
    "    df = df.rename(columns={\"Área (km²)\": \"Area\"})\n",
    "    # cambiar el nombre de la ultima columna por \"Poblacion\"\n",
    "    df = df.rename(columns={df.columns[-1]: \"Poblacion\"})\n",
    "    # setear los valores de la columna area como float\n",
    "    df[\"Area\"] = df[\"Area\"].apply(lambda x: pasar_float(x))\n",
    "    df[\"Municipios\"] = df[\"Municipios\"].apply(lambda x: pasar_int(x))\n",
    "    return df\n",
    "\n",
    "\n",
    "df = limpia_datos(df)\n",
    "df\n"
   ]
  },
  {
   "attachments": {},
   "cell_type": "markdown",
   "metadata": {},
   "source": [
    "* Setear capital como indice"
   ]
  },
  {
   "cell_type": "code",
   "execution_count": 132,
   "metadata": {},
   "outputs": [
    {
     "data": {
      "text/html": [
       "<div>\n",
       "<style scoped>\n",
       "    .dataframe tbody tr th:only-of-type {\n",
       "        vertical-align: middle;\n",
       "    }\n",
       "\n",
       "    .dataframe tbody tr th {\n",
       "        vertical-align: top;\n",
       "    }\n",
       "\n",
       "    .dataframe thead th {\n",
       "        text-align: right;\n",
       "    }\n",
       "</style>\n",
       "<table border=\"1\" class=\"dataframe\">\n",
       "  <thead>\n",
       "    <tr style=\"text-align: right;\">\n",
       "      <th></th>\n",
       "      <th>Isla con administración propia</th>\n",
       "      <th>Municipios</th>\n",
       "      <th>Area</th>\n",
       "      <th>Poblacion</th>\n",
       "    </tr>\n",
       "    <tr>\n",
       "      <th>Capital</th>\n",
       "      <th></th>\n",
       "      <th></th>\n",
       "      <th></th>\n",
       "      <th></th>\n",
       "    </tr>\n",
       "  </thead>\n",
       "  <tbody>\n",
       "    <tr>\n",
       "      <th>Valverde</th>\n",
       "      <td>El Hierro</td>\n",
       "      <td>3</td>\n",
       "      <td>26871.00</td>\n",
       "      <td>11 147</td>\n",
       "    </tr>\n",
       "    <tr>\n",
       "      <th>Puerto del Rosario</th>\n",
       "      <td>Fuerteventura</td>\n",
       "      <td>6</td>\n",
       "      <td>1665.74</td>\n",
       "      <td>119 732</td>\n",
       "    </tr>\n",
       "    <tr>\n",
       "      <th>Las Palmas de Gran Canaria</th>\n",
       "      <td>Gran Canaria</td>\n",
       "      <td>21</td>\n",
       "      <td>156010.00</td>\n",
       "      <td>855 521</td>\n",
       "    </tr>\n",
       "    <tr>\n",
       "      <th>San Sebastián de La Gomera</th>\n",
       "      <td>La Gomera</td>\n",
       "      <td>6</td>\n",
       "      <td>36976.00</td>\n",
       "      <td>21 678</td>\n",
       "    </tr>\n",
       "    <tr>\n",
       "      <th>Arrecife</th>\n",
       "      <td>Lanzarote</td>\n",
       "      <td>7</td>\n",
       "      <td>888.07</td>\n",
       "      <td>155 812</td>\n",
       "    </tr>\n",
       "    <tr>\n",
       "      <th>Santa Cruz de La Palma</th>\n",
       "      <td>La Palma</td>\n",
       "      <td>14</td>\n",
       "      <td>70832.00</td>\n",
       "      <td>83 458</td>\n",
       "    </tr>\n",
       "    <tr>\n",
       "      <th>Santa Cruz de Tenerife</th>\n",
       "      <td>Tenerife</td>\n",
       "      <td>31</td>\n",
       "      <td>203438.00</td>\n",
       "      <td>928 604</td>\n",
       "    </tr>\n",
       "  </tbody>\n",
       "</table>\n",
       "</div>"
      ],
      "text/plain": [
       "                           Isla con administración propia  Municipios  \\\n",
       "Capital                                                                 \n",
       "Valverde                                        El Hierro           3   \n",
       "Puerto del Rosario                          Fuerteventura           6   \n",
       "Las Palmas de Gran Canaria                   Gran Canaria          21   \n",
       "San Sebastián de La Gomera                      La Gomera           6   \n",
       "Arrecife                                        Lanzarote           7   \n",
       "Santa Cruz de La Palma                           La Palma          14   \n",
       "Santa Cruz de Tenerife                           Tenerife          31   \n",
       "\n",
       "                                 Area Poblacion  \n",
       "Capital                                          \n",
       "Valverde                     26871.00    11 147  \n",
       "Puerto del Rosario            1665.74   119 732  \n",
       "Las Palmas de Gran Canaria  156010.00   855 521  \n",
       "San Sebastián de La Gomera   36976.00    21 678  \n",
       "Arrecife                       888.07   155 812  \n",
       "Santa Cruz de La Palma       70832.00    83 458  \n",
       "Santa Cruz de Tenerife      203438.00   928 604  "
      ]
     },
     "execution_count": 132,
     "metadata": {},
     "output_type": "execute_result"
    }
   ],
   "source": [
    "df = df.set_index(\"Capital\")\n",
    "#df.reset_index(inplace=True)\n",
    "df"
   ]
  },
  {
   "attachments": {},
   "cell_type": "markdown",
   "metadata": {},
   "source": [
    "* Metodos para mostrado de datos de un Dataframe"
   ]
  },
  {
   "cell_type": "code",
   "execution_count": 133,
   "metadata": {},
   "outputs": [
    {
     "data": {
      "text/html": [
       "<div>\n",
       "<style scoped>\n",
       "    .dataframe tbody tr th:only-of-type {\n",
       "        vertical-align: middle;\n",
       "    }\n",
       "\n",
       "    .dataframe tbody tr th {\n",
       "        vertical-align: top;\n",
       "    }\n",
       "\n",
       "    .dataframe thead th {\n",
       "        text-align: right;\n",
       "    }\n",
       "</style>\n",
       "<table border=\"1\" class=\"dataframe\">\n",
       "  <thead>\n",
       "    <tr style=\"text-align: right;\">\n",
       "      <th></th>\n",
       "      <th>Isla con administración propia</th>\n",
       "      <th>Municipios</th>\n",
       "      <th>Area</th>\n",
       "      <th>Poblacion</th>\n",
       "    </tr>\n",
       "    <tr>\n",
       "      <th>Capital</th>\n",
       "      <th></th>\n",
       "      <th></th>\n",
       "      <th></th>\n",
       "      <th></th>\n",
       "    </tr>\n",
       "  </thead>\n",
       "  <tbody>\n",
       "    <tr>\n",
       "      <th>San Sebastián de La Gomera</th>\n",
       "      <td>La Gomera</td>\n",
       "      <td>6</td>\n",
       "      <td>36976.00</td>\n",
       "      <td>21 678</td>\n",
       "    </tr>\n",
       "    <tr>\n",
       "      <th>Arrecife</th>\n",
       "      <td>Lanzarote</td>\n",
       "      <td>7</td>\n",
       "      <td>888.07</td>\n",
       "      <td>155 812</td>\n",
       "    </tr>\n",
       "  </tbody>\n",
       "</table>\n",
       "</div>"
      ],
      "text/plain": [
       "                           Isla con administración propia  Municipios  \\\n",
       "Capital                                                                 \n",
       "San Sebastián de La Gomera                      La Gomera           6   \n",
       "Arrecife                                        Lanzarote           7   \n",
       "\n",
       "                                Area Poblacion  \n",
       "Capital                                         \n",
       "San Sebastián de La Gomera  36976.00    21 678  \n",
       "Arrecife                      888.07   155 812  "
      ]
     },
     "execution_count": 133,
     "metadata": {},
     "output_type": "execute_result"
    }
   ],
   "source": [
    "df.sample(2)\n"
   ]
  },
  {
   "cell_type": "code",
   "execution_count": 134,
   "metadata": {},
   "outputs": [
    {
     "data": {
      "text/html": [
       "<div>\n",
       "<style scoped>\n",
       "    .dataframe tbody tr th:only-of-type {\n",
       "        vertical-align: middle;\n",
       "    }\n",
       "\n",
       "    .dataframe tbody tr th {\n",
       "        vertical-align: top;\n",
       "    }\n",
       "\n",
       "    .dataframe thead th {\n",
       "        text-align: right;\n",
       "    }\n",
       "</style>\n",
       "<table border=\"1\" class=\"dataframe\">\n",
       "  <thead>\n",
       "    <tr style=\"text-align: right;\">\n",
       "      <th></th>\n",
       "      <th>Isla con administración propia</th>\n",
       "      <th>Municipios</th>\n",
       "      <th>Area</th>\n",
       "      <th>Poblacion</th>\n",
       "    </tr>\n",
       "    <tr>\n",
       "      <th>Capital</th>\n",
       "      <th></th>\n",
       "      <th></th>\n",
       "      <th></th>\n",
       "      <th></th>\n",
       "    </tr>\n",
       "  </thead>\n",
       "  <tbody>\n",
       "    <tr>\n",
       "      <th>Valverde</th>\n",
       "      <td>El Hierro</td>\n",
       "      <td>3</td>\n",
       "      <td>26871.00</td>\n",
       "      <td>11 147</td>\n",
       "    </tr>\n",
       "    <tr>\n",
       "      <th>Puerto del Rosario</th>\n",
       "      <td>Fuerteventura</td>\n",
       "      <td>6</td>\n",
       "      <td>1665.74</td>\n",
       "      <td>119 732</td>\n",
       "    </tr>\n",
       "    <tr>\n",
       "      <th>Las Palmas de Gran Canaria</th>\n",
       "      <td>Gran Canaria</td>\n",
       "      <td>21</td>\n",
       "      <td>156010.00</td>\n",
       "      <td>855 521</td>\n",
       "    </tr>\n",
       "    <tr>\n",
       "      <th>San Sebastián de La Gomera</th>\n",
       "      <td>La Gomera</td>\n",
       "      <td>6</td>\n",
       "      <td>36976.00</td>\n",
       "      <td>21 678</td>\n",
       "    </tr>\n",
       "    <tr>\n",
       "      <th>Arrecife</th>\n",
       "      <td>Lanzarote</td>\n",
       "      <td>7</td>\n",
       "      <td>888.07</td>\n",
       "      <td>155 812</td>\n",
       "    </tr>\n",
       "  </tbody>\n",
       "</table>\n",
       "</div>"
      ],
      "text/plain": [
       "                           Isla con administración propia  Municipios  \\\n",
       "Capital                                                                 \n",
       "Valverde                                        El Hierro           3   \n",
       "Puerto del Rosario                          Fuerteventura           6   \n",
       "Las Palmas de Gran Canaria                   Gran Canaria          21   \n",
       "San Sebastián de La Gomera                      La Gomera           6   \n",
       "Arrecife                                        Lanzarote           7   \n",
       "\n",
       "                                 Area Poblacion  \n",
       "Capital                                          \n",
       "Valverde                     26871.00    11 147  \n",
       "Puerto del Rosario            1665.74   119 732  \n",
       "Las Palmas de Gran Canaria  156010.00   855 521  \n",
       "San Sebastián de La Gomera   36976.00    21 678  \n",
       "Arrecife                       888.07   155 812  "
      ]
     },
     "execution_count": 134,
     "metadata": {},
     "output_type": "execute_result"
    }
   ],
   "source": [
    "df.head()"
   ]
  },
  {
   "cell_type": "code",
   "execution_count": 135,
   "metadata": {},
   "outputs": [
    {
     "data": {
      "text/html": [
       "<div>\n",
       "<style scoped>\n",
       "    .dataframe tbody tr th:only-of-type {\n",
       "        vertical-align: middle;\n",
       "    }\n",
       "\n",
       "    .dataframe tbody tr th {\n",
       "        vertical-align: top;\n",
       "    }\n",
       "\n",
       "    .dataframe thead th {\n",
       "        text-align: right;\n",
       "    }\n",
       "</style>\n",
       "<table border=\"1\" class=\"dataframe\">\n",
       "  <thead>\n",
       "    <tr style=\"text-align: right;\">\n",
       "      <th></th>\n",
       "      <th>Isla con administración propia</th>\n",
       "      <th>Municipios</th>\n",
       "      <th>Area</th>\n",
       "      <th>Poblacion</th>\n",
       "    </tr>\n",
       "    <tr>\n",
       "      <th>Capital</th>\n",
       "      <th></th>\n",
       "      <th></th>\n",
       "      <th></th>\n",
       "      <th></th>\n",
       "    </tr>\n",
       "  </thead>\n",
       "  <tbody>\n",
       "    <tr>\n",
       "      <th>Las Palmas de Gran Canaria</th>\n",
       "      <td>Gran Canaria</td>\n",
       "      <td>21</td>\n",
       "      <td>156010.00</td>\n",
       "      <td>855 521</td>\n",
       "    </tr>\n",
       "    <tr>\n",
       "      <th>San Sebastián de La Gomera</th>\n",
       "      <td>La Gomera</td>\n",
       "      <td>6</td>\n",
       "      <td>36976.00</td>\n",
       "      <td>21 678</td>\n",
       "    </tr>\n",
       "    <tr>\n",
       "      <th>Arrecife</th>\n",
       "      <td>Lanzarote</td>\n",
       "      <td>7</td>\n",
       "      <td>888.07</td>\n",
       "      <td>155 812</td>\n",
       "    </tr>\n",
       "    <tr>\n",
       "      <th>Santa Cruz de La Palma</th>\n",
       "      <td>La Palma</td>\n",
       "      <td>14</td>\n",
       "      <td>70832.00</td>\n",
       "      <td>83 458</td>\n",
       "    </tr>\n",
       "    <tr>\n",
       "      <th>Santa Cruz de Tenerife</th>\n",
       "      <td>Tenerife</td>\n",
       "      <td>31</td>\n",
       "      <td>203438.00</td>\n",
       "      <td>928 604</td>\n",
       "    </tr>\n",
       "  </tbody>\n",
       "</table>\n",
       "</div>"
      ],
      "text/plain": [
       "                           Isla con administración propia  Municipios  \\\n",
       "Capital                                                                 \n",
       "Las Palmas de Gran Canaria                   Gran Canaria          21   \n",
       "San Sebastián de La Gomera                      La Gomera           6   \n",
       "Arrecife                                        Lanzarote           7   \n",
       "Santa Cruz de La Palma                           La Palma          14   \n",
       "Santa Cruz de Tenerife                           Tenerife          31   \n",
       "\n",
       "                                 Area Poblacion  \n",
       "Capital                                          \n",
       "Las Palmas de Gran Canaria  156010.00   855 521  \n",
       "San Sebastián de La Gomera   36976.00    21 678  \n",
       "Arrecife                       888.07   155 812  \n",
       "Santa Cruz de La Palma       70832.00    83 458  \n",
       "Santa Cruz de Tenerife      203438.00   928 604  "
      ]
     },
     "execution_count": 135,
     "metadata": {},
     "output_type": "execute_result"
    }
   ],
   "source": [
    "df.tail()"
   ]
  },
  {
   "cell_type": "code",
   "execution_count": 136,
   "metadata": {},
   "outputs": [
    {
     "data": {
      "text/plain": [
       "Isla con administración propia    Lanzarote\n",
       "Municipios                                7\n",
       "Area                                 888.07\n",
       "Poblacion                           155 812\n",
       "Name: Arrecife, dtype: object"
      ]
     },
     "execution_count": 136,
     "metadata": {},
     "output_type": "execute_result"
    }
   ],
   "source": [
    "df.loc[\"Arrecife\"]"
   ]
  },
  {
   "cell_type": "code",
   "execution_count": 137,
   "metadata": {},
   "outputs": [
    {
     "name": "stdout",
     "output_type": "stream",
     "text": [
      "<class 'pandas.core.frame.DataFrame'>\n",
      "RangeIndex: 7 entries, 0 to 6\n",
      "Data columns (total 5 columns):\n",
      " #   Column                          Non-Null Count  Dtype  \n",
      "---  ------                          --------------  -----  \n",
      " 0   Capital                         7 non-null      object \n",
      " 1   Isla con administración propia  7 non-null      object \n",
      " 2   Municipios                      7 non-null      int64  \n",
      " 3   Area                            7 non-null      float64\n",
      " 4   Poblacion                       7 non-null      object \n",
      "dtypes: float64(1), int64(1), object(3)\n",
      "memory usage: 408.0+ bytes\n"
     ]
    }
   ],
   "source": [
    "df = df.reset_index()\n",
    "df.info()"
   ]
  },
  {
   "cell_type": "code",
   "execution_count": 138,
   "metadata": {},
   "outputs": [
    {
     "data": {
      "text/plain": [
       "Capital\n",
       "Valverde                       3\n",
       "Puerto del Rosario             6\n",
       "Las Palmas de Gran Canaria    21\n",
       "San Sebastián de La Gomera     6\n",
       "Arrecife                       7\n",
       "Santa Cruz de La Palma        14\n",
       "Santa Cruz de Tenerife        31\n",
       "Name: Municipios, dtype: int64"
      ]
     },
     "execution_count": 138,
     "metadata": {},
     "output_type": "execute_result"
    }
   ],
   "source": [
    "df = df.set_index(\"Capital\")\n",
    "df[\"Municipios\"]"
   ]
  },
  {
   "cell_type": "code",
   "execution_count": 139,
   "metadata": {},
   "outputs": [
    {
     "data": {
      "text/html": [
       "<div>\n",
       "<style scoped>\n",
       "    .dataframe tbody tr th:only-of-type {\n",
       "        vertical-align: middle;\n",
       "    }\n",
       "\n",
       "    .dataframe tbody tr th {\n",
       "        vertical-align: top;\n",
       "    }\n",
       "\n",
       "    .dataframe thead th {\n",
       "        text-align: right;\n",
       "    }\n",
       "</style>\n",
       "<table border=\"1\" class=\"dataframe\">\n",
       "  <thead>\n",
       "    <tr style=\"text-align: right;\">\n",
       "      <th></th>\n",
       "      <th>Municipios</th>\n",
       "      <th>Area</th>\n",
       "    </tr>\n",
       "    <tr>\n",
       "      <th>Capital</th>\n",
       "      <th></th>\n",
       "      <th></th>\n",
       "    </tr>\n",
       "  </thead>\n",
       "  <tbody>\n",
       "    <tr>\n",
       "      <th>Valverde</th>\n",
       "      <td>3</td>\n",
       "      <td>26871.00</td>\n",
       "    </tr>\n",
       "    <tr>\n",
       "      <th>Puerto del Rosario</th>\n",
       "      <td>6</td>\n",
       "      <td>1665.74</td>\n",
       "    </tr>\n",
       "    <tr>\n",
       "      <th>Las Palmas de Gran Canaria</th>\n",
       "      <td>21</td>\n",
       "      <td>156010.00</td>\n",
       "    </tr>\n",
       "    <tr>\n",
       "      <th>San Sebastián de La Gomera</th>\n",
       "      <td>6</td>\n",
       "      <td>36976.00</td>\n",
       "    </tr>\n",
       "    <tr>\n",
       "      <th>Arrecife</th>\n",
       "      <td>7</td>\n",
       "      <td>888.07</td>\n",
       "    </tr>\n",
       "  </tbody>\n",
       "</table>\n",
       "</div>"
      ],
      "text/plain": [
       "                            Municipios       Area\n",
       "Capital                                          \n",
       "Valverde                             3   26871.00\n",
       "Puerto del Rosario                   6    1665.74\n",
       "Las Palmas de Gran Canaria          21  156010.00\n",
       "San Sebastián de La Gomera           6   36976.00\n",
       "Arrecife                             7     888.07"
      ]
     },
     "execution_count": 139,
     "metadata": {},
     "output_type": "execute_result"
    }
   ],
   "source": [
    "# Slicing horizontal y vertical\n",
    "df.loc[:\"Arrecife\",\"Municipios\":\"Area\"]"
   ]
  },
  {
   "cell_type": "code",
   "execution_count": 143,
   "metadata": {},
   "outputs": [
    {
     "data": {
      "text/html": [
       "<div>\n",
       "<style scoped>\n",
       "    .dataframe tbody tr th:only-of-type {\n",
       "        vertical-align: middle;\n",
       "    }\n",
       "\n",
       "    .dataframe tbody tr th {\n",
       "        vertical-align: top;\n",
       "    }\n",
       "\n",
       "    .dataframe thead th {\n",
       "        text-align: right;\n",
       "    }\n",
       "</style>\n",
       "<table border=\"1\" class=\"dataframe\">\n",
       "  <thead>\n",
       "    <tr style=\"text-align: right;\">\n",
       "      <th></th>\n",
       "      <th>Isla con administración propia</th>\n",
       "      <th>Municipios</th>\n",
       "      <th>Area</th>\n",
       "      <th>Poblacion</th>\n",
       "    </tr>\n",
       "    <tr>\n",
       "      <th>Capital</th>\n",
       "      <th></th>\n",
       "      <th></th>\n",
       "      <th></th>\n",
       "      <th></th>\n",
       "    </tr>\n",
       "  </thead>\n",
       "  <tbody>\n",
       "    <tr>\n",
       "      <th>Arrecife</th>\n",
       "      <td>Lanzarote</td>\n",
       "      <td>7</td>\n",
       "      <td>888.07</td>\n",
       "      <td>155 812</td>\n",
       "    </tr>\n",
       "    <tr>\n",
       "      <th>Valverde</th>\n",
       "      <td>El Hierro</td>\n",
       "      <td>3</td>\n",
       "      <td>26871.00</td>\n",
       "      <td>11 147</td>\n",
       "    </tr>\n",
       "  </tbody>\n",
       "</table>\n",
       "</div>"
      ],
      "text/plain": [
       "         Isla con administración propia  Municipios      Area Poblacion\n",
       "Capital                                                                \n",
       "Arrecife                      Lanzarote           7    888.07   155 812\n",
       "Valverde                      El Hierro           3  26871.00    11 147"
      ]
     },
     "execution_count": 143,
     "metadata": {},
     "output_type": "execute_result"
    }
   ],
   "source": [
    "# Mostrar solo los elejidos\n",
    "df.loc[[\"Arrecife\", \"Valverde\"],:]"
   ]
  },
  {
   "attachments": {},
   "cell_type": "markdown",
   "metadata": {},
   "source": [
    "* Condiciones"
   ]
  },
  {
   "cell_type": "code",
   "execution_count": 147,
   "metadata": {},
   "outputs": [
    {
     "data": {
      "text/plain": [
       "Capital\n",
       "Valverde                      False\n",
       "Puerto del Rosario            False\n",
       "Las Palmas de Gran Canaria     True\n",
       "San Sebastián de La Gomera    False\n",
       "Arrecife                      False\n",
       "Santa Cruz de La Palma         True\n",
       "Santa Cruz de Tenerife         True\n",
       "Name: Municipios, dtype: bool"
      ]
     },
     "execution_count": 147,
     "metadata": {},
     "output_type": "execute_result"
    }
   ],
   "source": [
    "muchos_municipios = df[\"Municipios\"] > 10\n",
    "muchos_municipios"
   ]
  },
  {
   "cell_type": "code",
   "execution_count": 151,
   "metadata": {},
   "outputs": [
    {
     "data": {
      "text/html": [
       "<div>\n",
       "<style scoped>\n",
       "    .dataframe tbody tr th:only-of-type {\n",
       "        vertical-align: middle;\n",
       "    }\n",
       "\n",
       "    .dataframe tbody tr th {\n",
       "        vertical-align: top;\n",
       "    }\n",
       "\n",
       "    .dataframe thead th {\n",
       "        text-align: right;\n",
       "    }\n",
       "</style>\n",
       "<table border=\"1\" class=\"dataframe\">\n",
       "  <thead>\n",
       "    <tr style=\"text-align: right;\">\n",
       "      <th></th>\n",
       "      <th>Isla con administración propia</th>\n",
       "      <th>Municipios</th>\n",
       "      <th>Area</th>\n",
       "      <th>Poblacion</th>\n",
       "    </tr>\n",
       "    <tr>\n",
       "      <th>Capital</th>\n",
       "      <th></th>\n",
       "      <th></th>\n",
       "      <th></th>\n",
       "      <th></th>\n",
       "    </tr>\n",
       "  </thead>\n",
       "  <tbody>\n",
       "    <tr>\n",
       "      <th>Las Palmas de Gran Canaria</th>\n",
       "      <td>Gran Canaria</td>\n",
       "      <td>21</td>\n",
       "      <td>156010.0</td>\n",
       "      <td>855 521</td>\n",
       "    </tr>\n",
       "    <tr>\n",
       "      <th>Santa Cruz de La Palma</th>\n",
       "      <td>La Palma</td>\n",
       "      <td>14</td>\n",
       "      <td>70832.0</td>\n",
       "      <td>83 458</td>\n",
       "    </tr>\n",
       "    <tr>\n",
       "      <th>Santa Cruz de Tenerife</th>\n",
       "      <td>Tenerife</td>\n",
       "      <td>31</td>\n",
       "      <td>203438.0</td>\n",
       "      <td>928 604</td>\n",
       "    </tr>\n",
       "  </tbody>\n",
       "</table>\n",
       "</div>"
      ],
      "text/plain": [
       "                           Isla con administración propia  Municipios  \\\n",
       "Capital                                                                 \n",
       "Las Palmas de Gran Canaria                   Gran Canaria          21   \n",
       "Santa Cruz de La Palma                           La Palma          14   \n",
       "Santa Cruz de Tenerife                           Tenerife          31   \n",
       "\n",
       "                                Area Poblacion  \n",
       "Capital                                         \n",
       "Las Palmas de Gran Canaria  156010.0   855 521  \n",
       "Santa Cruz de La Palma       70832.0    83 458  \n",
       "Santa Cruz de Tenerife      203438.0   928 604  "
      ]
     },
     "execution_count": 151,
     "metadata": {},
     "output_type": "execute_result"
    }
   ],
   "source": [
    "df[muchos_municipios]\n",
    "df.query(\"Municipios > 10\")"
   ]
  },
  {
   "cell_type": "markdown",
   "metadata": {},
   "source": [
    "* Append datos"
   ]
  },
  {
   "cell_type": "code",
   "execution_count": 173,
   "metadata": {},
   "outputs": [
    {
     "name": "stderr",
     "output_type": "stream",
     "text": [
      "C:\\Users\\brais.fernandezvazqu\\AppData\\Local\\Temp\\ipykernel_4348\\575505677.py:1: FutureWarning: The frame.append method is deprecated and will be removed from pandas in a future version. Use pandas.concat instead.\n",
      "  df = df.append(pd.Series(data=[\"Teguise\",1, 1.0, 1], index=df.columns, name=\"Isla prueba\"))\n"
     ]
    },
    {
     "data": {
      "text/html": [
       "<div>\n",
       "<style scoped>\n",
       "    .dataframe tbody tr th:only-of-type {\n",
       "        vertical-align: middle;\n",
       "    }\n",
       "\n",
       "    .dataframe tbody tr th {\n",
       "        vertical-align: top;\n",
       "    }\n",
       "\n",
       "    .dataframe thead th {\n",
       "        text-align: right;\n",
       "    }\n",
       "</style>\n",
       "<table border=\"1\" class=\"dataframe\">\n",
       "  <thead>\n",
       "    <tr style=\"text-align: right;\">\n",
       "      <th></th>\n",
       "      <th>Isla con administración propia</th>\n",
       "      <th>Municipios</th>\n",
       "      <th>Area</th>\n",
       "      <th>Poblacion</th>\n",
       "    </tr>\n",
       "    <tr>\n",
       "      <th>Capital</th>\n",
       "      <th></th>\n",
       "      <th></th>\n",
       "      <th></th>\n",
       "      <th></th>\n",
       "    </tr>\n",
       "  </thead>\n",
       "  <tbody>\n",
       "    <tr>\n",
       "      <th>Valverde</th>\n",
       "      <td>El Hierro</td>\n",
       "      <td>3</td>\n",
       "      <td>26871.00</td>\n",
       "      <td>11 147</td>\n",
       "    </tr>\n",
       "    <tr>\n",
       "      <th>Puerto del Rosario</th>\n",
       "      <td>Fuerteventura</td>\n",
       "      <td>6</td>\n",
       "      <td>1665.74</td>\n",
       "      <td>119 732</td>\n",
       "    </tr>\n",
       "    <tr>\n",
       "      <th>Las Palmas de Gran Canaria</th>\n",
       "      <td>Gran Canaria</td>\n",
       "      <td>21</td>\n",
       "      <td>156010.00</td>\n",
       "      <td>855 521</td>\n",
       "    </tr>\n",
       "    <tr>\n",
       "      <th>San Sebastián de La Gomera</th>\n",
       "      <td>La Gomera</td>\n",
       "      <td>6</td>\n",
       "      <td>36976.00</td>\n",
       "      <td>21 678</td>\n",
       "    </tr>\n",
       "    <tr>\n",
       "      <th>Arrecife</th>\n",
       "      <td>Lanzarote</td>\n",
       "      <td>7</td>\n",
       "      <td>888.07</td>\n",
       "      <td>155 812</td>\n",
       "    </tr>\n",
       "    <tr>\n",
       "      <th>Santa Cruz de La Palma</th>\n",
       "      <td>La Palma</td>\n",
       "      <td>14</td>\n",
       "      <td>70832.00</td>\n",
       "      <td>83 458</td>\n",
       "    </tr>\n",
       "    <tr>\n",
       "      <th>Santa Cruz de Tenerife</th>\n",
       "      <td>Tenerife</td>\n",
       "      <td>31</td>\n",
       "      <td>203438.00</td>\n",
       "      <td>928 604</td>\n",
       "    </tr>\n",
       "    <tr>\n",
       "      <th>Isla prueba</th>\n",
       "      <td>Teguise</td>\n",
       "      <td>1</td>\n",
       "      <td>1.00</td>\n",
       "      <td>1</td>\n",
       "    </tr>\n",
       "  </tbody>\n",
       "</table>\n",
       "</div>"
      ],
      "text/plain": [
       "                           Isla con administración propia  Municipios  \\\n",
       "Capital                                                                 \n",
       "Valverde                                        El Hierro           3   \n",
       "Puerto del Rosario                          Fuerteventura           6   \n",
       "Las Palmas de Gran Canaria                   Gran Canaria          21   \n",
       "San Sebastián de La Gomera                      La Gomera           6   \n",
       "Arrecife                                        Lanzarote           7   \n",
       "Santa Cruz de La Palma                           La Palma          14   \n",
       "Santa Cruz de Tenerife                           Tenerife          31   \n",
       "Isla prueba                                       Teguise           1   \n",
       "\n",
       "                                 Area Poblacion  \n",
       "Capital                                          \n",
       "Valverde                     26871.00    11 147  \n",
       "Puerto del Rosario            1665.74   119 732  \n",
       "Las Palmas de Gran Canaria  156010.00   855 521  \n",
       "San Sebastián de La Gomera   36976.00    21 678  \n",
       "Arrecife                       888.07   155 812  \n",
       "Santa Cruz de La Palma       70832.00    83 458  \n",
       "Santa Cruz de Tenerife      203438.00   928 604  \n",
       "Isla prueba                      1.00         1  "
      ]
     },
     "execution_count": 173,
     "metadata": {},
     "output_type": "execute_result"
    }
   ],
   "source": [
    "df = df.append(pd.Series(data=[\"Teguise\",1, 1.0, 1], index=df.columns, name=\"Isla prueba\"))\n",
    "df"
   ]
  },
  {
   "attachments": {},
   "cell_type": "markdown",
   "metadata": {},
   "source": [
    "* Drop data"
   ]
  },
  {
   "cell_type": "code",
   "execution_count": null,
   "metadata": {},
   "outputs": [
    {
     "data": {
      "text/html": [
       "<div>\n",
       "<style scoped>\n",
       "    .dataframe tbody tr th:only-of-type {\n",
       "        vertical-align: middle;\n",
       "    }\n",
       "\n",
       "    .dataframe tbody tr th {\n",
       "        vertical-align: top;\n",
       "    }\n",
       "\n",
       "    .dataframe thead th {\n",
       "        text-align: right;\n",
       "    }\n",
       "</style>\n",
       "<table border=\"1\" class=\"dataframe\">\n",
       "  <thead>\n",
       "    <tr style=\"text-align: right;\">\n",
       "      <th></th>\n",
       "      <th>Isla con administración propia</th>\n",
       "      <th>Municipios</th>\n",
       "      <th>Area</th>\n",
       "      <th>Poblacion</th>\n",
       "    </tr>\n",
       "    <tr>\n",
       "      <th>Capital</th>\n",
       "      <th></th>\n",
       "      <th></th>\n",
       "      <th></th>\n",
       "      <th></th>\n",
       "    </tr>\n",
       "  </thead>\n",
       "  <tbody>\n",
       "    <tr>\n",
       "      <th>Valverde</th>\n",
       "      <td>El Hierro</td>\n",
       "      <td>3</td>\n",
       "      <td>26871.00</td>\n",
       "      <td>11 147</td>\n",
       "    </tr>\n",
       "    <tr>\n",
       "      <th>Puerto del Rosario</th>\n",
       "      <td>Fuerteventura</td>\n",
       "      <td>6</td>\n",
       "      <td>1665.74</td>\n",
       "      <td>119 732</td>\n",
       "    </tr>\n",
       "    <tr>\n",
       "      <th>Las Palmas de Gran Canaria</th>\n",
       "      <td>Gran Canaria</td>\n",
       "      <td>21</td>\n",
       "      <td>156010.00</td>\n",
       "      <td>855 521</td>\n",
       "    </tr>\n",
       "    <tr>\n",
       "      <th>San Sebastián de La Gomera</th>\n",
       "      <td>La Gomera</td>\n",
       "      <td>6</td>\n",
       "      <td>36976.00</td>\n",
       "      <td>21 678</td>\n",
       "    </tr>\n",
       "    <tr>\n",
       "      <th>Arrecife</th>\n",
       "      <td>Lanzarote</td>\n",
       "      <td>7</td>\n",
       "      <td>888.07</td>\n",
       "      <td>155 812</td>\n",
       "    </tr>\n",
       "    <tr>\n",
       "      <th>Santa Cruz de La Palma</th>\n",
       "      <td>La Palma</td>\n",
       "      <td>14</td>\n",
       "      <td>70832.00</td>\n",
       "      <td>83 458</td>\n",
       "    </tr>\n",
       "    <tr>\n",
       "      <th>Santa Cruz de Tenerife</th>\n",
       "      <td>Tenerife</td>\n",
       "      <td>31</td>\n",
       "      <td>203438.00</td>\n",
       "      <td>928 604</td>\n",
       "    </tr>\n",
       "  </tbody>\n",
       "</table>\n",
       "</div>"
      ],
      "text/plain": [
       "                           Isla con administración propia  Municipios  \\\n",
       "Capital                                                                 \n",
       "Valverde                                        El Hierro           3   \n",
       "Puerto del Rosario                          Fuerteventura           6   \n",
       "Las Palmas de Gran Canaria                   Gran Canaria          21   \n",
       "San Sebastián de La Gomera                      La Gomera           6   \n",
       "Arrecife                                        Lanzarote           7   \n",
       "Santa Cruz de La Palma                           La Palma          14   \n",
       "Santa Cruz de Tenerife                           Tenerife          31   \n",
       "\n",
       "                                 Area Poblacion  \n",
       "Capital                                          \n",
       "Valverde                     26871.00    11 147  \n",
       "Puerto del Rosario            1665.74   119 732  \n",
       "Las Palmas de Gran Canaria  156010.00   855 521  \n",
       "San Sebastián de La Gomera   36976.00    21 678  \n",
       "Arrecife                       888.07   155 812  \n",
       "Santa Cruz de La Palma       70832.00    83 458  \n",
       "Santa Cruz de Tenerife      203438.00   928 604  "
      ]
     },
     "execution_count": 172,
     "metadata": {},
     "output_type": "execute_result"
    }
   ],
   "source": [
    "df = df.drop(\"Isla prueba\")\n",
    "df"
   ]
  }
 ],
 "metadata": {
  "kernelspec": {
   "display_name": "base",
   "language": "python",
   "name": "python3"
  },
  "language_info": {
   "codemirror_mode": {
    "name": "ipython",
    "version": 3
   },
   "file_extension": ".py",
   "mimetype": "text/x-python",
   "name": "python",
   "nbconvert_exporter": "python",
   "pygments_lexer": "ipython3",
   "version": "3.9.15"
  },
  "orig_nbformat": 4,
  "vscode": {
   "interpreter": {
    "hash": "6b64ee70fd8f0909fcecf9a9afaf731d69bbd344ca99ff4ed80e2b2301678faa"
   }
  }
 },
 "nbformat": 4,
 "nbformat_minor": 2
}
